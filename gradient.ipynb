{
 "cells": [
  {
   "cell_type": "code",
   "execution_count": 10,
   "metadata": {},
   "outputs": [
    {
     "name": "stderr",
     "output_type": "stream",
     "text": [
      "\u001b[32m\u001b[1m   Updating\u001b[22m\u001b[39m registry at `~/.julia/registries/General`\n",
      "######################################################################### 100,0%\n",
      "\u001b[32m\u001b[1m  Resolving\u001b[22m\u001b[39m package versions...\n",
      "\u001b[32m\u001b[1m  Installed\u001b[22m\u001b[39m HDF5_jll ──────────── v1.12.0+1\n",
      "\u001b[32m\u001b[1m  Installed\u001b[22m\u001b[39m CEnum ─────────────── v0.4.1\n",
      "\u001b[32m\u001b[1m  Installed\u001b[22m\u001b[39m MuladdMacro ───────── v0.2.2\n",
      "\u001b[32m\u001b[1m  Installed\u001b[22m\u001b[39m ZipFile ───────────── v0.9.3\n",
      "\u001b[32m\u001b[1m  Installed\u001b[22m\u001b[39m AbstractFFTs ──────── v0.5.0\n",
      "\u001b[32m\u001b[1m  Installed\u001b[22m\u001b[39m Flux ──────────────── v0.11.2\n",
      "\u001b[32m\u001b[1m  Installed\u001b[22m\u001b[39m SLEEFPirates ──────── v0.5.5\n",
      "\u001b[32m\u001b[1m  Installed\u001b[22m\u001b[39m Richardson ────────── v1.2.0\n",
      "\u001b[32m\u001b[1m  Installed\u001b[22m\u001b[39m Scratch ───────────── v1.0.3\n",
      "\u001b[32m\u001b[1m  Installed\u001b[22m\u001b[39m BFloat16s ─────────── v0.1.0\n",
      "\u001b[32m\u001b[1m  Installed\u001b[22m\u001b[39m ExprTools ─────────── v0.1.3\n",
      "\u001b[32m\u001b[1m  Installed\u001b[22m\u001b[39m FiniteDifferences ─── v0.11.5\n",
      "\u001b[32m\u001b[1m  Installed\u001b[22m\u001b[39m DocStringExtensions ─ v0.8.3\n",
      "\u001b[32m\u001b[1m  Installed\u001b[22m\u001b[39m GPUCompiler ───────── v0.8.3\n",
      "\u001b[32m\u001b[1m  Installed\u001b[22m\u001b[39m Functors ──────────── v0.1.0\n",
      "\u001b[32m\u001b[1m  Installed\u001b[22m\u001b[39m ChainRules ────────── v0.7.36\n",
      "\u001b[32m\u001b[1m  Installed\u001b[22m\u001b[39m ChainRulesTestUtils ─ v0.5.5\n",
      "\u001b[32m\u001b[1m  Installed\u001b[22m\u001b[39m LLVM ──────────────── v3.4.0\n",
      "\u001b[32m\u001b[1m  Installed\u001b[22m\u001b[39m Juno ──────────────── v0.8.4\n",
      "\u001b[32m\u001b[1m  Installed\u001b[22m\u001b[39m VectorizationBase ─── v0.12.33\n",
      "\u001b[32m\u001b[1m  Installed\u001b[22m\u001b[39m GPUArrays ─────────── v6.1.2\n",
      "\u001b[32m\u001b[1m  Installed\u001b[22m\u001b[39m SIMDPirates ───────── v0.8.26\n",
      "\u001b[32m\u001b[1m  Installed\u001b[22m\u001b[39m CpuId ─────────────── v0.2.2\n",
      "\u001b[32m\u001b[1m  Installed\u001b[22m\u001b[39m Media ─────────────── v0.5.0\n",
      "\u001b[32m\u001b[1m  Installed\u001b[22m\u001b[39m IRTools ───────────── v0.4.2\n",
      "\u001b[32m\u001b[1m  Installed\u001b[22m\u001b[39m AbstractTrees ─────── v0.3.3\n",
      "\u001b[32m\u001b[1m  Installed\u001b[22m\u001b[39m NNlib ─────────────── v0.7.7\n",
      "\u001b[32m\u001b[1m  Installed\u001b[22m\u001b[39m ChainRulesCore ────── v0.9.23\n",
      "\u001b[32m\u001b[1m  Installed\u001b[22m\u001b[39m Zygote ────────────── v0.5.16\n",
      "\u001b[32m\u001b[1m  Installed\u001b[22m\u001b[39m ZygoteRules ───────── v0.2.0\n",
      "\u001b[32m\u001b[1m  Installed\u001b[22m\u001b[39m TimerOutputs ──────── v0.5.7\n",
      "\u001b[32m\u001b[1m  Installed\u001b[22m\u001b[39m CUDA ──────────────── v2.3.0\n",
      "\u001b[32m\u001b[1m  Installed\u001b[22m\u001b[39m ArrayLayouts ──────── v0.4.11\n",
      "\u001b[32m\u001b[1m  Installed\u001b[22m\u001b[39m LoopVectorization ─── v0.8.26\n",
      "\u001b[32m\u001b[1mUpdating\u001b[22m\u001b[39m `~/.julia/environments/v1.5/Project.toml`\n",
      " \u001b[90m [587475ba] \u001b[39m\u001b[92m+ Flux v0.11.2\u001b[39m\n",
      "\u001b[32m\u001b[1mUpdating\u001b[22m\u001b[39m `~/.julia/environments/v1.5/Manifest.toml`\n",
      " \u001b[90m [621f4979] \u001b[39m\u001b[92m+ AbstractFFTs v0.5.0\u001b[39m\n",
      " \u001b[90m [1520ce14] \u001b[39m\u001b[92m+ AbstractTrees v0.3.3\u001b[39m\n",
      " \u001b[90m [4c555306] \u001b[39m\u001b[92m+ ArrayLayouts v0.4.11\u001b[39m\n",
      " \u001b[90m [ab4f0b2a] \u001b[39m\u001b[92m+ BFloat16s v0.1.0\u001b[39m\n",
      " \u001b[90m [fa961155] \u001b[39m\u001b[92m+ CEnum v0.4.1\u001b[39m\n",
      " \u001b[90m [052768ef] \u001b[39m\u001b[92m+ CUDA v2.3.0\u001b[39m\n",
      " \u001b[90m [082447d4] \u001b[39m\u001b[92m+ ChainRules v0.7.36\u001b[39m\n",
      " \u001b[90m [d360d2e6] \u001b[39m\u001b[92m+ ChainRulesCore v0.9.23\u001b[39m\n",
      " \u001b[90m [cdddcdb0] \u001b[39m\u001b[92m+ ChainRulesTestUtils v0.5.5\u001b[39m\n",
      " \u001b[90m [adafc99b] \u001b[39m\u001b[92m+ CpuId v0.2.2\u001b[39m\n",
      " \u001b[90m [ffbed154] \u001b[39m\u001b[92m+ DocStringExtensions v0.8.3\u001b[39m\n",
      " \u001b[90m [e2ba6199] \u001b[39m\u001b[92m+ ExprTools v0.1.3\u001b[39m\n",
      " \u001b[90m [26cc04aa] \u001b[39m\u001b[92m+ FiniteDifferences v0.11.5\u001b[39m\n",
      " \u001b[90m [587475ba] \u001b[39m\u001b[92m+ Flux v0.11.2\u001b[39m\n",
      " \u001b[90m [d9f16b24] \u001b[39m\u001b[92m+ Functors v0.1.0\u001b[39m\n",
      " \u001b[90m [0c68f7d7] \u001b[39m\u001b[92m+ GPUArrays v6.1.2\u001b[39m\n",
      " \u001b[90m [61eb1bfa] \u001b[39m\u001b[92m+ GPUCompiler v0.8.3\u001b[39m\n",
      " \u001b[90m [0234f1f7] \u001b[39m\u001b[93m↑ HDF5_jll v1.12.0+0 ⇒ v1.12.0+1\u001b[39m\n",
      " \u001b[90m [7869d1d1] \u001b[39m\u001b[92m+ IRTools v0.4.2\u001b[39m\n",
      " \u001b[90m [e5e0dc1b] \u001b[39m\u001b[92m+ Juno v0.8.4\u001b[39m\n",
      " \u001b[90m [929cbde3] \u001b[39m\u001b[92m+ LLVM v3.4.0\u001b[39m\n",
      " \u001b[90m [bdcacae8] \u001b[39m\u001b[92m+ LoopVectorization v0.8.26\u001b[39m\n",
      " \u001b[90m [e89f7d12] \u001b[39m\u001b[92m+ Media v0.5.0\u001b[39m\n",
      " \u001b[90m [46d2c3a1] \u001b[39m\u001b[92m+ MuladdMacro v0.2.2\u001b[39m\n",
      " \u001b[90m [872c559c] \u001b[39m\u001b[92m+ NNlib v0.7.7\u001b[39m\n",
      " \u001b[90m [708f8203] \u001b[39m\u001b[92m+ Richardson v1.2.0\u001b[39m\n",
      " \u001b[90m [21efa798] \u001b[39m\u001b[92m+ SIMDPirates v0.8.26\u001b[39m\n",
      " \u001b[90m [476501e8] \u001b[39m\u001b[92m+ SLEEFPirates v0.5.5\u001b[39m\n",
      " \u001b[90m [6c6a2e73] \u001b[39m\u001b[92m+ Scratch v1.0.3\u001b[39m\n",
      " \u001b[90m [a759f4b9] \u001b[39m\u001b[92m+ TimerOutputs v0.5.7\u001b[39m\n",
      " \u001b[90m [3d5dd08c] \u001b[39m\u001b[92m+ VectorizationBase v0.12.33\u001b[39m\n",
      " \u001b[90m [a5390f91] \u001b[39m\u001b[92m+ ZipFile v0.9.3\u001b[39m\n",
      " \u001b[90m [e88e6eb3] \u001b[39m\u001b[92m+ Zygote v0.5.16\u001b[39m\n",
      " \u001b[90m [700de1a5] \u001b[39m\u001b[92m+ ZygoteRules v0.2.0\u001b[39m\n",
      " \u001b[90m [9abbd945] \u001b[39m\u001b[92m+ Profile\u001b[39m\n",
      "\u001b[32m\u001b[1m   Building\u001b[22m\u001b[39m SLEEFPirates → `~/.julia/packages/SLEEFPirates/jGsib/deps/build.log`\n"
     ]
    }
   ],
   "source": [
    "using Pkg\n",
    "Pkg.add(\"Flux\")"
   ]
  },
  {
   "cell_type": "markdown",
   "metadata": {},
   "source": [
    "# Example use gradient"
   ]
  },
  {
   "cell_type": "code",
   "execution_count": null,
   "metadata": {},
   "outputs": [],
   "source": [
    "using Pkg\n",
    "Pkg.add(\"Flux\")"
   ]
  },
  {
   "cell_type": "code",
   "execution_count": 16,
   "metadata": {},
   "outputs": [],
   "source": [
    "using Flux:gradient"
   ]
  },
  {
   "cell_type": "code",
   "execution_count": 23,
   "metadata": {},
   "outputs": [
    {
     "data": {
      "text/plain": [
       "J (generic function with 1 method)"
      ]
     },
     "execution_count": 23,
     "metadata": {},
     "output_type": "execute_result"
    }
   ],
   "source": [
    "J(θ)=2θ^2 - 3θ + 5"
   ]
  },
  {
   "cell_type": "code",
   "execution_count": 29,
   "metadata": {},
   "outputs": [
    {
     "data": {
      "text/plain": [
       "g (generic function with 1 method)"
      ]
     },
     "execution_count": 29,
     "metadata": {},
     "output_type": "execute_result"
    }
   ],
   "source": [
    "g(θ)= 4θ-3"
   ]
  },
  {
   "cell_type": "code",
   "execution_count": 30,
   "metadata": {},
   "outputs": [
    {
     "data": {
      "text/plain": [
       "dJ (generic function with 1 method)"
      ]
     },
     "execution_count": 30,
     "metadata": {},
     "output_type": "execute_result"
    }
   ],
   "source": [
    "dJ(θ)=gradient(J,θ)"
   ]
  },
  {
   "cell_type": "code",
   "execution_count": 31,
   "metadata": {},
   "outputs": [
    {
     "data": {
      "text/plain": [
       "1"
      ]
     },
     "execution_count": 31,
     "metadata": {},
     "output_type": "execute_result"
    }
   ],
   "source": [
    "dJ(1)[1]"
   ]
  },
  {
   "cell_type": "code",
   "execution_count": 32,
   "metadata": {},
   "outputs": [
    {
     "data": {
      "text/plain": [
       "5"
      ]
     },
     "execution_count": 32,
     "metadata": {},
     "output_type": "execute_result"
    }
   ],
   "source": [
    "dJ(2)[1]"
   ]
  },
  {
   "cell_type": "code",
   "execution_count": 33,
   "metadata": {},
   "outputs": [
    {
     "data": {
      "text/plain": [
       "11.0"
      ]
     },
     "execution_count": 33,
     "metadata": {},
     "output_type": "execute_result"
    }
   ],
   "source": [
    "dJ(3.5)[1]"
   ]
  },
  {
   "cell_type": "markdown",
   "metadata": {},
   "source": [
    " $\\sin(x)=\\sum_{k=0}^5 (-1)^k x^{2k+1} / (2k+1)!$"
   ]
  },
  {
   "cell_type": "code",
   "execution_count": 40,
   "metadata": {},
   "outputs": [
    {
     "data": {
      "text/plain": [
       "mysin (generic function with 1 method)"
      ]
     },
     "execution_count": 40,
     "metadata": {},
     "output_type": "execute_result"
    }
   ],
   "source": [
    "mysin(x)=sum((-1)^k * x^(2k+1) / factorial(2k + 1) for k=0:5)"
   ]
  },
  {
   "cell_type": "code",
   "execution_count": 41,
   "metadata": {},
   "outputs": [
    {
     "data": {
      "text/plain": [
       "0.04120586768472732"
      ]
     },
     "execution_count": 41,
     "metadata": {},
     "output_type": "execute_result"
    }
   ],
   "source": [
    "mysin(3.1)"
   ]
  },
  {
   "cell_type": "code",
   "execution_count": 42,
   "metadata": {},
   "outputs": [
    {
     "data": {
      "text/plain": [
       "dmysin (generic function with 1 method)"
      ]
     },
     "execution_count": 42,
     "metadata": {},
     "output_type": "execute_result"
    }
   ],
   "source": [
    "dmysin(x)=gradient(mysin,x)"
   ]
  },
  {
   "cell_type": "code",
   "execution_count": 44,
   "metadata": {},
   "outputs": [
    {
     "data": {
      "text/plain": [
       "(-0.4161552028218696,)"
      ]
     },
     "execution_count": 44,
     "metadata": {},
     "output_type": "execute_result"
    }
   ],
   "source": [
    "dmysin(2)"
   ]
  },
  {
   "cell_type": "code",
   "execution_count": null,
   "metadata": {},
   "outputs": [],
   "source": [
    "π"
   ]
  }
 ],
 "metadata": {
  "kernelspec": {
   "display_name": "Julia 1.5.3",
   "language": "julia",
   "name": "julia-1.5"
  },
  "language_info": {
   "file_extension": ".jl",
   "mimetype": "application/julia",
   "name": "julia",
   "version": "1.5.3"
  }
 },
 "nbformat": 4,
 "nbformat_minor": 4
}
